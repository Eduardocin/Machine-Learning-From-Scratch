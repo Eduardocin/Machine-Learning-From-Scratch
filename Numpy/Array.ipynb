{
 "cells": [
  {
   "cell_type": "code",
   "execution_count": 1,
   "metadata": {},
   "outputs": [],
   "source": [
    "import numpy as np"
   ]
  },
  {
   "cell_type": "markdown",
   "metadata": {},
   "source": [
    "# Most Famous functions\n",
    "\n",
    "### Array Creation:\n",
    "\n",
    "np.array(): Creates an array from a Python list or tuple.\n",
    "\n",
    "np.zeros(): Creates an array filled with zeros.\n",
    "\n",
    "np.ones(): Creates an array filled with ones.\n",
    "\n",
    "np.arange(): Creates an array with a range of values.\n",
    "\n",
    "np.linspace(): Creates an array with evenly spaced values over a specified range.\n",
    "\n",
    "### _Array Manipulation:_\n",
    "\n",
    "np.reshape(): Reshapes an array without changing its data.\n",
    "np.transpose(): Transposes an array (swaps axes).\n",
    "np.concatenate(): Joins a sequence of arrays along an existing axis.\n",
    "np.split(): Splits an array into multiple sub-arrays.\n",
    "\n",
    "\n",
    "### Mathematical Operations:\n",
    "\n",
    "np.sum(): Computes the sum of array elements.\n",
    "\n",
    "np.mean(): Computes the mean of array elements.\n",
    "\n",
    "\n",
    "np.std(): Computes the standard deviation of array elements.\n",
    "\n",
    "np.dot(): Computes the dot product of two arrays.\n",
    "\n",
    "### Statistical Functions:\n",
    "\n",
    "np.min() and np.max(): Returns the minimum and maximum values of an array.\n",
    "\n",
    "np.median(): Computes the median of array elements.\n",
    "\n",
    "np.unique(): Finds the unique elements of an array.\n",
    "\n",
    "np.corrcoef(): Computes the correlation coefficient matrix.\n",
    "\n",
    "### Boolean and Advanced Indexing:\n",
    "\n",
    "### Boolean indexing: Using arrays of Boolean values to filter data.\n",
    "### Fancy indexing: Using arrays of integers to access specific elements.\n",
    "\n",
    "### Linear Algebra:\n",
    "\n",
    "> np.linalg.inv(): Computes the inverse of a matrix.\n",
    "\n",
    "> np.linalg.det(): Computes the determinant of a matrix.\n",
    "\n",
    "> np.linalg.eig(): Computes the eigenvalues and right eigenvectors of a square array.\n",
    "\n",
    "### Random Sampling:\n",
    "\n",
    "np.random.rand(): Generates an array of random numbers from a uniform distribution.\n",
    "\n",
    "np.random.randn(): Generates an array of random numbers from a normal distribution.\n",
    "\n",
    "np.random.randint(): Generates random integers from low (inclusive) to high (exclusive).\n",
    "\n",
    "### Aggregation and Functions:\n",
    "\n",
    "np.apply_along_axis(): Applies a function to 1-D slices along an axis.\n",
    "\n",
    "np.vectorize(): Allows you to apply a function to each element of an array."
   ]
  },
  {
   "cell_type": "code",
   "execution_count": 19,
   "metadata": {},
   "outputs": [
    {
     "name": "stdout",
     "output_type": "stream",
     "text": [
      "[ 2  4  6  8 10]\n",
      "<class 'numpy.ndarray'>\n",
      "5\n",
      "(5,)\n",
      "1\n",
      "6\n",
      "(2, 3)\n",
      "2\n"
     ]
    }
   ],
   "source": [
    "teste = np.linspace(2, 10, num= 5).astype(int)\n",
    "print(teste)\n",
    "print(type(teste))\n",
    "\n",
    "teste2 = np.array([[1,3,4], [1, 2, 3]])\n",
    "print(teste.size) # the number of elements\n",
    "print(teste.shape) # \n",
    "print(teste.ndim) # tells how many axes the data have\n",
    "\n",
    "print(teste2.size)\n",
    "print(teste2.shape)\n",
    "print(teste2.ndim)"
   ]
  }
 ],
 "metadata": {
  "kernelspec": {
   "display_name": "Python 3",
   "language": "python",
   "name": "python3"
  },
  "language_info": {
   "codemirror_mode": {
    "name": "ipython",
    "version": 3
   },
   "file_extension": ".py",
   "mimetype": "text/x-python",
   "name": "python",
   "nbconvert_exporter": "python",
   "pygments_lexer": "ipython3",
   "version": "3.11.4"
  }
 },
 "nbformat": 4,
 "nbformat_minor": 2
}
